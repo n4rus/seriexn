{
 "cells": [
  {
   "cell_type": "code",
   "execution_count": 1,
   "metadata": {},
   "outputs": [
    {
     "name": "stdout",
     "output_type": "stream",
     "text": [
      "Numero inteiro maior que 1\n",
      "Digite o numero de parcelas xni 'tamanho da série':\n",
      "1000000000\n"
     ]
    }
   ],
   "source": [
    "#cabeçalho obtido do repositorio \"inset/intset\"\n",
    "#codigo subsequente deve ser editado\n",
    "#def: a série \"soma xn\" é a sequencia de somas parciais de xn\"\" \n",
    "print(\"Numero inteiro maior que 1\")\n",
    "print(\"Digite o numero de parcelas xni 'tamanho da série':\")\n",
    "\n",
    "#entrada do tamanho da série\n",
    "tamanho=input()"
   ]
  },
  {
   "cell_type": "code",
   "execution_count": 2,
   "metadata": {},
   "outputs": [
    {
     "name": "stdout",
     "output_type": "stream",
     "text": [
      "Digite o indice inicial:\n",
      "1\n"
     ]
    }
   ],
   "source": [
    "#indice inicial\n",
    "print(\"Digite o indice inicial:\")\n",
    "indice=input()"
   ]
  },
  {
   "cell_type": "code",
   "execution_count": null,
   "metadata": {
    "scrolled": true
   },
   "outputs": [],
   "source": [
    "lista=[]\n",
    "serie=float(tamanho)\n",
    "xni=float(indice)\n",
    "\n",
    "while xni<=serie:\n",
    "    #soma parcial da sequencia modificada\n",
    "    if xni <= 1:\n",
    "        partx=1/xni\n",
    "        #print para testes\n",
    "        #print(partx)\n",
    "        lista.append(partx)\n",
    "        xni=xni+1\n",
    "    if xni > 1:\n",
    "        partx=partx+1/xni\n",
    "        xni=xni+1\n",
    "        lista.append(partx)"
   ]
  },
  {
   "cell_type": "code",
   "execution_count": null,
   "metadata": {},
   "outputs": [],
   "source": [
    "#adicionar input para print da lista \"intervalo\"\n",
    "#print(lista[900000:1000000])\n",
    "print(\"Digite o indice inicial a ser exibido (entre \" + str(indice) + \" e \" + str(tamanho) + \").\")\n",
    "indicei=input()\n",
    "print(\"Digite o indice final a ser exibido (entre \" + str(indicei) + \" e \" + str(tamanho) + \").\")\n",
    "indicef=input()\n",
    "\n",
    "indiceff=int(indicef)\n",
    "indiceii=int(indicei)\n",
    "printl=lista[indiceii:indiceff]\n",
    "print(\"\\n\" + str(printl))"
   ]
  },
  {
   "cell_type": "code",
   "execution_count": 26,
   "metadata": {},
   "outputs": [],
   "source": [
    "#escreve a lista em modo string no arquivo nomeado\n",
    "demo_file = open('lista.txt','a')\n",
    "demo_file.write(str(printl))\n",
    "demo_file.close()"
   ]
  },
  {
   "cell_type": "code",
   "execution_count": null,
   "metadata": {},
   "outputs": [],
   "source": []
  }
 ],
 "metadata": {
  "kernelspec": {
   "display_name": "Python 3",
   "language": "python",
   "name": "python3"
  },
  "language_info": {
   "codemirror_mode": {
    "name": "ipython",
    "version": 3
   },
   "file_extension": ".py",
   "mimetype": "text/x-python",
   "name": "python",
   "nbconvert_exporter": "python",
   "pygments_lexer": "ipython3",
   "version": "3.8.10"
  }
 },
 "nbformat": 4,
 "nbformat_minor": 4
}
