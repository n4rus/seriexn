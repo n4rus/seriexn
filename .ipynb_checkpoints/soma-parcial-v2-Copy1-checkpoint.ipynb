{
 "cells": [
  {
   "cell_type": "code",
   "execution_count": 36,
   "metadata": {},
   "outputs": [
    {
     "name": "stdout",
     "output_type": "stream",
     "text": [
      "Numero inteiro maior que 1\n",
      "Digite o numero de parcelas xni 'tamanho da série':\n",
      "111\n"
     ]
    }
   ],
   "source": [
    "#cabeçalho obtido do repositorio \"inset/intset\"\n",
    "#codigo subsequente deve ser editado\n",
    "#def: a série \"soma xn\" é a sequencia de somas parciais de xn\"\" \n",
    "print(\"Numero inteiro maior que 1\")\n",
    "print(\"Digite o numero de parcelas xni 'tamanho da série':\")\n",
    "\n",
    "#entrada do tamanho da série\n",
    "tamanho=input()"
   ]
  },
  {
   "cell_type": "code",
   "execution_count": 37,
   "metadata": {},
   "outputs": [
    {
     "name": "stdout",
     "output_type": "stream",
     "text": [
      "Digite o indice inicial\n",
      "1\n"
     ]
    }
   ],
   "source": [
    "#indice inicial\n",
    "print(\"Digite o indice inicial:\")\n",
    "indice=input()"
   ]
  },
  {
   "cell_type": "code",
   "execution_count": 38,
   "metadata": {
    "scrolled": true
   },
   "outputs": [],
   "source": [
    "lista=[]\n",
    "serie=float(tamanho)\n",
    "xni=float(indice)\n",
    "\n",
    "while xni<=serie:\n",
    "    #soma parcial da sequencia modificada\n",
    "    if xni <= 1:\n",
    "        partx=1/xni\n",
    "        #print para testes\n",
    "        #print(partx)\n",
    "        lista.append(partx)\n",
    "        xni=xni+1\n",
    "    if xni > 1:\n",
    "        partx=partx+1/xni\n",
    "        xni=xni+1\n",
    "        lista.append(partx)"
   ]
  },
  {
   "cell_type": "code",
   "execution_count": 40,
   "metadata": {},
   "outputs": [
    {
     "name": "stdout",
     "output_type": "stream",
     "text": [
      "Digite o indice inicial a ser exibido (entre 1 e 111).\n",
      "1\n",
      "Digite o indice final a ser exibido (entre 1 e 111).\n",
      "42\n",
      "\n",
      "[1.5, 1.8333333333333333, 2.083333333333333, 2.283333333333333, 2.4499999999999997, 2.5928571428571425, 2.7178571428571425, 2.8289682539682537, 2.9289682539682538, 3.0198773448773446, 3.103210678210678, 3.180133755133755, 3.251562326562327, 3.3182289932289937, 3.3807289932289937, 3.439552522640758, 3.4951080781963135, 3.547739657143682, 3.597739657143682, 3.6453587047627294, 3.690813250217275, 3.73429151108684, 3.7759581777535067, 3.8159581777535068, 3.854419716215045, 3.8914567532520823, 3.927171038966368, 3.9616537975870574, 3.9949871309203906, 4.02724519543652, 4.05849519543652, 4.08879822573955, 4.118209990445433, 4.146781419016861, 4.174559196794639, 4.201586223821666, 4.22790201329535, 4.2535430389363755, 4.278543038936376, 4.302933282838815, 4.326742806648339]\n"
     ]
    }
   ],
   "source": [
    "#adicionar input para print da lista \"intervalo\"\n",
    "#print(lista[900000:1000000])\n",
    "print(\"Digite o indice inicial a ser exibido (entre \" + str(indice) + \" e \" + str(tamanho) + \").\")\n",
    "indicei=input()\n",
    "print(\"Digite o indice final a ser exibido (entre \" + str(indicei) + \" e \" + str(tamanho) + \").\")\n",
    "indicef=input()\n",
    "\n",
    "indiceff=int(indicef)\n",
    "indiceii=int(indicei)\n",
    "printl=lista[indiceii:indiceff]\n",
    "print(\"\\n\" + str(printl))"
   ]
  },
  {
   "cell_type": "code",
   "execution_count": 26,
   "metadata": {},
   "outputs": [],
   "source": [
    "#escreve a lista em modo string no arquivo nomeado\n",
    "demo_file = open('lista.txt','a')\n",
    "demo_file.write(str(printl))\n",
    "demo_file.close()"
   ]
  },
  {
   "cell_type": "code",
   "execution_count": null,
   "metadata": {},
   "outputs": [],
   "source": []
  }
 ],
 "metadata": {
  "kernelspec": {
   "display_name": "Python 3",
   "language": "python",
   "name": "python3"
  },
  "language_info": {
   "codemirror_mode": {
    "name": "ipython",
    "version": 3
   },
   "file_extension": ".py",
   "mimetype": "text/x-python",
   "name": "python",
   "nbconvert_exporter": "python",
   "pygments_lexer": "ipython3",
   "version": "3.8.10"
  }
 },
 "nbformat": 4,
 "nbformat_minor": 4
}
